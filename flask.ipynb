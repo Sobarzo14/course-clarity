{
 "cells": [
  {
   "cell_type": "code",
   "execution_count": null,
   "metadata": {},
   "outputs": [],
   "source": [
    "%pip install Flask\n",
    "%pip install flask_cors"
   ]
  },
  {
   "cell_type": "code",
   "execution_count": null,
   "metadata": {},
   "outputs": [
    {
     "name": "stdout",
     "output_type": "stream",
     "text": [
      " * Serving Flask app '__main__'\n",
      " * Debug mode: off\n"
     ]
    },
    {
     "name": "stderr",
     "output_type": "stream",
     "text": [
      "/Library/Frameworks/Python.framework/Versions/3.11/lib/python3.11/site-packages/tqdm/auto.py:21: TqdmWarning: IProgress not found. Please update jupyter and ipywidgets. See https://ipywidgets.readthedocs.io/en/stable/user_install.html\n",
      "  from .autonotebook import tqdm as notebook_tqdm\n",
      "\u001b[31m\u001b[1mWARNING: This is a development server. Do not use it in a production deployment. Use a production WSGI server instead.\u001b[0m\n",
      " * Running on all addresses (0.0.0.0)\n",
      " * Running on http://127.0.0.1:3000\n",
      " * Running on http://104.39.220.132:3000\n",
      "\u001b[33mPress CTRL+C to quit\u001b[0m\n"
     ]
    }
   ],
   "source": [
    "from flask import Flask, request, jsonify\n",
    "from flask_cors import CORS\n",
    "import google.generativeai as genai\n",
    "\n",
    "# Initialize Flask app\n",
    "app = Flask(__name__)\n",
    "CORS(app, resources={r\"/*\": {\"origins\": \"http://localhost:5173\"}})\n",
    "\n",
    "reply = \"Hi there! How can I help you today? To best assist you with your questions about Penn State's College of Information Sciences and Technology courses, it would be helpful if you could provide me with the course names and, ideally, your syllabi.\"\n",
    "\n",
    "@app.route('/api/data', methods=['GET'])\n",
    "def get_data():\n",
    "    print(\"hello\")\n",
    "    return \"hello\"\n",
    "\n",
    "if __name__ == \"__main__\":\n",
    "    # Run the Flask app\n",
    "    app.run(host=\"0.0.0.0\", port=3000)\n",
    "\n",
    "\n",
    "#     You are an expert on Penn State couses in the college of Information Sciences and Technology. Your expertise includes providing accurate, objective, and up-to-date information about courses, professors, and assignments. Your primary role is to assist students by answering questions related to: Assignment deadlines. Professor information, including teaching awards, feedback, and research activity. Course details such as descriptions, grading policies, and prerequisites. Your behaviour and tone should be professional, concise, and friendly. Your responses should provide factual, objective, and helpful information. Avoid providing speculative or subjective information. If information is unavailable, guide users to alternative resources. Some appropriate recomendations would be for the user to speak to an academic advisor, their professor, or for them to attend office hours. If a user has not already done so, recommend that they provide you with their current syllabi for any courses thay may have questions about. If a user provides you with a syllabus, commit it to memory for future use and future question the user may have. When asked about a professor you should: Scrap ratemyprofessor for objective information about the professor. Check google scholar for information about their research. Lookup any teaching awards they may have. \n",
    "\n",
    "# Here are some examples\n",
    "\n",
    "# User Query: \"Clearly state the assignment name, due date, and relevant details.\"\n",
    "# Response: \"The final project for IST 140 is due on December 10, 2024, by 11:59 PM.\"\n",
    "\n",
    "# User Query: \"Provide a brief overview of the professor’s teaching awards, feedback, and research status.\"\n",
    "# Response: \"Professor John Doe has a 4.5/5 rating on clarity, has won the Faculty Excellence Award in 2022, and is research-active with publications in cybersecurity.\"\n",
    "\n",
    "# User Query: \"Summarize course objectives, prerequisites, and grading policies.\"\n",
    "# Response: \"IST 210 covers database concepts and has no prerequisites. The grading policy is 30% quizzes, 40% projects, and 30% final exam.\"\n",
    "\n",
    "# User Query: \"When is the midterm for IST 140?\"\n",
    "# Response: \"The midterm for IST 140 is scheduled for October 20, 2024. It will cover Chapters 1–6 of the textbook.\"\n",
    "\n",
    "# User Query:\"Who is teaching CMPSC 121, and are they research-active?\"\n",
    "# Response:\"CMPSC 121 is taught by Professor Jane Smith, who specializes in software engineering. She is research-active and has recently published papers on machine learning algorithms.\n",
    "\n"
   ]
  },
  {
   "cell_type": "code",
   "execution_count": null,
   "metadata": {},
   "outputs": [],
   "source": []
  }
 ],
 "metadata": {
  "kernelspec": {
   "display_name": "Python 3",
   "language": "python",
   "name": "python3"
  },
  "language_info": {
   "codemirror_mode": {
    "name": "ipython",
    "version": 3
   },
   "file_extension": ".py",
   "mimetype": "text/x-python",
   "name": "python",
   "nbconvert_exporter": "python",
   "pygments_lexer": "ipython3",
   "version": "3.11.4"
  }
 },
 "nbformat": 4,
 "nbformat_minor": 2
}
